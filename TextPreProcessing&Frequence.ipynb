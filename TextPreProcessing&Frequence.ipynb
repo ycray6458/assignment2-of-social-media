{
 "cells": [
  {
   "cell_type": "code",
   "execution_count": 47,
   "id": "8ff3bb9a",
   "metadata": {},
   "outputs": [],
   "source": [
    "import numpy as np"
   ]
  },
  {
   "cell_type": "code",
   "execution_count": 2,
   "id": "172fc5db",
   "metadata": {},
   "outputs": [],
   "source": [
    "def processText(text, tokenizer, stemmer, stopwords):\n",
    "    \"\"\"\n",
    "    Perform tokenisation, normalisation (lower case and stemming) and stopword and twitter keyword removal.\n",
    "\n",
    "    @param text: reddit submission or comment text\n",
    "    @param tokenizer: tokeniser used.\n",
    "    @param stemmer: stemmer used.\n",
    "    @param stopwords: list of stopwords used\n",
    "\n",
    "    @returns: a list of processed tokens\n",
    "    \"\"\"\n",
    "\n",
    "    # covert all to lower case\n",
    "    text = text.lower()\n",
    "    # tokenise\n",
    "    lTokens = tokenizer.tokenize(text)\n",
    "    # strip whitespaces before and after\n",
    "    lTokens = [token.strip() for token in lTokens]\n",
    "    # stem (we use set to remove duplicates)\n",
    "    lStemmedTokens = set([stemmer.stem(tok) for tok in lTokens])\n",
    "\n",
    "\n",
    "    # remove stopwords, digits\n",
    "    return [tok for tok in lStemmedTokens if tok not in stopwords and not tok.isdigit()]"
   ]
  },
  {
   "cell_type": "code",
   "execution_count": 13,
   "id": "4260f8a0",
   "metadata": {},
   "outputs": [],
   "source": [
    "csv1=pd.read_csv('dataFromReddit_ProgrammingLanguages.csv')"
   ]
  },
  {
   "cell_type": "code",
   "execution_count": 14,
   "id": "1c44195a",
   "metadata": {},
   "outputs": [
    {
     "data": {
      "text/plain": [
       "857"
      ]
     },
     "execution_count": 14,
     "metadata": {},
     "output_type": "execute_result"
    }
   ],
   "source": [
    "len(csv1)"
   ]
  },
  {
   "cell_type": "code",
   "execution_count": 15,
   "id": "f909cd8b",
   "metadata": {},
   "outputs": [],
   "source": [
    "csv2=pd.read_csv('dataFromReddit_programming.csv')"
   ]
  },
  {
   "cell_type": "code",
   "execution_count": 16,
   "id": "064e8483",
   "metadata": {},
   "outputs": [
    {
     "data": {
      "text/plain": [
       "752"
      ]
     },
     "execution_count": 16,
     "metadata": {},
     "output_type": "execute_result"
    }
   ],
   "source": [
    "len(csv2)"
   ]
  },
  {
   "cell_type": "code",
   "execution_count": 25,
   "id": "caf097dc",
   "metadata": {},
   "outputs": [
    {
     "name": "stderr",
     "output_type": "stream",
     "text": [
      "[nltk_data] Downloading package stopwords to\n",
      "[nltk_data]     C:\\Users\\Rayhi\\AppData\\Roaming\\nltk_data...\n",
      "[nltk_data]   Package stopwords is already up-to-date!\n"
     ]
    }
   ],
   "source": [
    "import sys\n",
    "import json\n",
    "import string\n",
    "import pandas as pd\n",
    "from collections import Counter\n",
    "import nltk\n",
    "nltk.download('stopwords')\n",
    "import matplotlib.pyplot as mpl\n",
    "\n",
    "\n",
    "# load csv file\n",
    "fCsvName = 'dataFromReddit_ProgrammingLanguages.csv'\n",
    "\n",
    "\n",
    "# tweet tokeniser to use\n",
    "tweetTokeniser = nltk.tokenize.TweetTokenizer()\n",
    "# use the punctuation symbols defined in string.punctuation\n",
    "lPunct = list(string.punctuation)\n",
    "# use stopwords from nltk and a few other twitter specific terms like 'rt' (retweet)\n",
    "lStopwords = nltk.corpus.stopwords.words('english') + lPunct + ['via']\n",
    "# we use the popular Porter stemmer\n",
    "tweetStemmer = nltk.stem.PorterStemmer()\n",
    "\n",
    "# our term frequency counter\n",
    "termFreqCounter = Counter()"
   ]
  },
  {
   "cell_type": "code",
   "execution_count": 49,
   "id": "da816698",
   "metadata": {
    "scrolled": true
   },
   "outputs": [
    {
     "name": "stdout",
     "output_type": "stream",
     "text": [
      "languag: 1801\n",
      "program: 1140\n",
      "compil: 447\n",
      "type: 434\n",
      "code: 354\n",
      "use: 353\n",
      "thi: 352\n",
      "function: 339\n",
      "design: 297\n",
      "like: 276\n",
      "implement: 268\n",
      "c: 258\n",
      "new: 246\n",
      "whi: 241\n",
      "write: 235\n",
      "work: 235\n",
      "featur: 220\n",
      "make: 219\n",
      "system: 217\n",
      "interpret: 212\n",
      "ani: 206\n",
      "would: 200\n",
      "ha: 198\n",
      "syntax: 189\n",
      "rust: 182\n",
      "gener: 182\n",
      "i'm: 171\n",
      "one: 169\n",
      "wa: 169\n",
      "think: 161\n"
     ]
    }
   ],
   "source": [
    "\n",
    "# number of most frequent terms to display\n",
    "freqNum = 30\n",
    "\n",
    "# read csv data\n",
    "csvPD=pd.read_csv(fCsvName)\n",
    "title_list = csv1['Title'].tolist()+csv1['Body'].tolist()+csv2['Title'].tolist()+csv2['Body'].tolist()\n",
    "title_list = [x for x in title_list if not (isinstance(x, (float, np.float64)) and np.isnan(x))]\n",
    "for submission in title_list:\n",
    "    lTokens = processText(text=submission, tokenizer=tweetTokeniser, stemmer=tweetStemmer, stopwords=lStopwords)\n",
    "\n",
    "    # update count\n",
    "    termFreqCounter.update(lTokens)\n",
    "\n",
    "freqList = termFreqCounter.most_common(freqNum)\n",
    "    \n",
    "# print out most common terms\n",
    "for term, count in termFreqCounter.most_common(freqNum):\n",
    "    if term != \"’\" and term != \"‘\":\n",
    "        print(term + ': ' + str(count))"
   ]
  },
  {
   "cell_type": "code",
   "execution_count": 50,
   "id": "9bb8318b",
   "metadata": {
    "scrolled": true
   },
   "outputs": [],
   "source": [
    "# get coding language key words\n",
    "key = ['c', 'python', 'java', 'javascript', 'js','c#','ruby','c++']"
   ]
  },
  {
   "cell_type": "code",
   "execution_count": 51,
   "id": "399f8112",
   "metadata": {},
   "outputs": [],
   "source": [
    "coding_list = [(t,f) for t,f in termFreqCounter.items() if t in key]"
   ]
  },
  {
   "cell_type": "code",
   "execution_count": 52,
   "id": "6b750031",
   "metadata": {
    "scrolled": true
   },
   "outputs": [
    {
     "data": {
      "text/plain": [
       "[('python', 139), ('js', 22), ('javascript', 52), ('java', 64), ('c', 258)]"
      ]
     },
     "execution_count": 52,
     "metadata": {},
     "output_type": "execute_result"
    }
   ],
   "source": [
    "coding_list"
   ]
  },
  {
   "cell_type": "code",
   "execution_count": 53,
   "id": "80cc0956",
   "metadata": {},
   "outputs": [
    {
     "data": {
      "image/png": "[encoded data removed]",
      "text/plain": [
       "<Figure size 1000x600 with 1 Axes>"
      ]
     },
     "metadata": {},
     "output_type": "display_data"
    }
   ],
   "source": [
    "# construct the x and y values\n",
    "y = [s[1] for s in coding_list]\n",
    "\n",
    "x = [s[0] for s in coding_list]\n",
    "# use matplotlib bar chat to plot this\n",
    "mpl.bar(x, y)\n",
    "mpl.title(\"Top ten words\\' frequency distribution in Title\")\n",
    "mpl.ylabel('FREQUENCY')\n",
    "mpl.xlabel('TERM')\n",
    "mpl.rcParams['figure.figsize'] = (10.0, 6.0)\n",
    "mpl.show()"
   ]
  },
  {
   "cell_type": "code",
   "execution_count": 54,
   "id": "baf94921",
   "metadata": {},
   "outputs": [
    {
     "name": "stdout",
     "output_type": "stream",
     "text": [
      "thi: 490\n",
      "use: 313\n",
      "like: 284\n",
      "languag: 277\n",
      "wa: 229\n",
      "work: 225\n",
      "one: 220\n",
      "it': 219\n",
      "code: 202\n",
      "get: 193\n",
      "think: 191\n",
      "program: 183\n",
      "make: 182\n",
      "would: 177\n",
      "also: 168\n",
      "thing: 165\n",
      "ha: 160\n",
      "time: 152\n",
      "type: 150\n",
      "realli: 149\n",
      "need: 146\n",
      "even: 143\n",
      "ani: 142\n",
      "good: 139\n",
      "veri: 139\n",
      "compil: 137\n",
      "want: 136\n",
      "becaus: 134\n",
      "way: 132\n",
      "go: 132\n"
     ]
    }
   ],
   "source": [
    "termFreqCounter2 = Counter()\n",
    "comment_list = csv1['TopComment'] + csv2['TopComment']\n",
    "comment_list = [x for x in comment_list if not (isinstance(x, (float, np.float64)) and np.isnan(x))]\n",
    "for submission in  comment_list:\n",
    "    lTokens = processText(text=submission, tokenizer=tweetTokeniser, stemmer=tweetStemmer, stopwords=lStopwords)\n",
    "\n",
    "    # update count\n",
    "    termFreqCounter2.update(lTokens)\n",
    "\n",
    "# print out most common terms\n",
    "for term, count in termFreqCounter2.most_common(freqNum):\n",
    "    if term != \"’\" and term != \"‘\":\n",
    "        print(term + ': ' + str(count))\n",
    "        # remove quotation marks\n",
    "freqList = termFreqCounter2.most_common(30)\n",
    "\n",
    "coding_list = [(t,f) for t,f in termFreqCounter2.items() if t in key]"
   ]
  },
  {
   "cell_type": "code",
   "execution_count": 56,
   "id": "d4c2d220",
   "metadata": {},
   "outputs": [
    {
     "data": {
      "image/png": "[encoded data removed]",
      "text/plain": [
       "<Figure size 1000x600 with 1 Axes>"
      ]
     },
     "metadata": {},
     "output_type": "display_data"
    }
   ],
   "source": [
    "# construct the x and y values\n",
    "y = [s[1] for s in coding_list]\n",
    "\n",
    "x = [s[0] for s in coding_list]\n",
    "# use matplotlib bar chat to plot this\n",
    "mpl.bar(x, y)\n",
    "mpl.title(\"Top ten words\\' frequency distribution in TopComments\")\n",
    "mpl.ylabel('Number')\n",
    "mpl.xlabel('Term')\n",
    "mpl.rcParams['figure.figsize'] = (10.0, 6.0)\n",
    "mpl.show()"
   ]
  }
 ],
 "metadata": {
  "kernelspec": {
   "display_name": "Python 3 (ipykernel)",
   "language": "python",
   "name": "python3"
  },
  "language_info": {
   "codemirror_mode": {
    "name": "ipython",
    "version": 3
   },
   "file_extension": ".py",
   "mimetype": "text/x-python",
   "name": "python",
   "nbconvert_exporter": "python",
   "pygments_lexer": "ipython3",
   "version": "3.11.4"
  }
 },
 "nbformat": 4,
 "nbformat_minor": 5
}
