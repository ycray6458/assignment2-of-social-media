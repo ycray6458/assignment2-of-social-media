{
 "cells": [
  {
   "cell_type": "code",
   "execution_count": 1,
   "id": "471d4010",
   "metadata": {},
   "outputs": [],
   "source": [
    "%load_ext autoreload\n",
    "%autoreload 1\n",
    "%aimport redditClient"
   ]
  },
  {
   "cell_type": "code",
   "execution_count": 2,
   "id": "870b1465",
   "metadata": {},
   "outputs": [],
   "source": [
    "import networkx as nx\n",
    "\n",
    "from redditClient import redditClient\n",
    "\n",
    "import matplotlib.pyplot as plt"
   ]
  },
  {
   "cell_type": "code",
   "execution_count": 6,
   "id": "525ccccb",
   "metadata": {},
   "outputs": [],
   "source": [
    "sFileName = \"programming_reply.graphml\""
   ]
  },
  {
   "cell_type": "code",
   "execution_count": 4,
   "id": "525ea90c",
   "metadata": {},
   "outputs": [],
   "source": [
    "# construct Reddit client\n",
    "client = redditClient()\n",
    "\n",
    "# construct directed graph\n",
    "replyGraph = nx.DiGraph()\n",
    "\n",
    "# this dictionary used to track the ids of submissions and posts, in order for us to construct\n",
    "# the links in the graph\n",
    "dSubCommentId = dict()\n",
    "\n",
    "# specify which subreddit we are interested in - 'python'\n",
    "subreddit = client.subreddit('programming')\n"
   ]
  },
  {
   "cell_type": "code",
   "execution_count": 7,
   "id": "1915bfd1",
   "metadata": {
    "scrolled": true
   },
   "outputs": [
    {
     "name": "stdout",
     "output_type": "stream",
     "text": [
      "['ketralnis', 'fxfighter', 'jevring', 'DrunkensteinsMonster', 'qmunke', 'Worth_Trust_3825', 'Parachuteee', 'elons_cybertruck', 'hector_villalobos', 'scorecerer', 'wrosecrans', 'rydan', 'EpicDaNoob', 'hyperbrainer', 'franzwong', 'SirLich', 'Nowaker', 'Caraes_Naur', 'Richandler', 'BoppreH', 'english_fool', 'happy_hawking', 'WeeSingInSillyville', 'case-o-nuts', 'subfootlover', 'POWER_SNUGGLE', 'Determinant', 'Tarquin_McBeard', 'Fiennes', 'Yeitgeist', '-grok', 'myringotomy', 'ConcurrentSquared', 'MSpekkio', 'Messy-Recipe', 'Smooth-Zucchini4923', 'Berkyjay', 'yozhiki-pyzhiki', 'ThatCrankyGuy', 'Jean_Kul', 'phillipcarter2', 'animastralis', 'not_a_novel_account', 'zerothehero0', 'maestro2005', 'watabby', 'tophatstuff', 'f10101', 'pat_trick', 'Owatch', 'KawaiiNeko-', 'solve-for-x', 'RockstarArtisan', 'revereddesecration', 'Yamoyek', 'df1dcdb83cd14e6a9f7f', 'numeric-rectal-mutt', 'altik_0', 'TheNamelessKing', 'silveryRain', 'secret_online', 'untetheredocelot', 'jixsonz', 'purefabulousity', 'water_bottle_goggles', 'auto_grammatizator', 'WeNeedYouBuddyGetUp', 'belovedeagle', 'skulgnome', 'jdm1891', 'throwaway_bluehair', 'Sarke1', 'FullPoet', 'fire_in_the_theater', 'DrkMaxim', 'turtley99', 'hashedboards', 'reercalium2', 'FishGiant', 'Notakas', 'Responsible-Chef6073', 'Ok_Transition9957', 'pindab0ter', 'Full-Spectral', 'gliderXC', 'drankinatty', 'Fousheezy', 'osantacruz', 'Somepotato', 'ThreeLeggedChimp', 'mywaterlooaccount', 'Doobage', 'rocode', 'ASteelyDan', '07734willy', 'andrewfenn', 'itsa_me_', 'unknow_feature', 'Cautious-Nothing-471', 'Specialist-Fix-6386', 'Rtzon', 'anengineerandacat', 'outrageous-spirit-80', 'KieranDevvs', 'falconfetus8', 'realPrimoh', 'zachm', 'stronghup', 'johnlsingleton', 'nutrecht', 'Lisoph', 'dacjames', 'Eurynom0s', 'hpp3', 'WTFwhatthehell', 'lightmatter501', 'Simber1', 'TikiScudd', 'Amuro_Ray', 'KevinCarbonara', 'douglasg14b', 'IanisVasilev', 'redalastor', 'btmc', 'Ksevio', 'qq123q', 'JohhnyTheKid', 'kevkevverson', 'AndrewNeo', 'alpacaMyToothbrush', 'MindStalker', 'notori3647', 'Dongslinger420', 'bananahead', 'SirClueless', 'Ytrog', 'Proud_Ad5394', 'inhumantsar', 'almost_useless', 'wRAR_', 'nelmaloc', 'caboosetp', 'Iggyhopper', 'April1987', 'rhaksw', 'GunpowderGuy', 'Booty_Bumping', 'emn13', 'serviscope_minor', 'butt_fun', 'ChrisRR', 'pihkal', 'breadcodes', 'davidmatthew1987', 'WithoutReason1729', 'ablatner', 'Giladkl', 'crixusin', 'Luolong', 'BundleOfJoysticks', 'bobbymk10', 'k-selectride', 'QuantumMarina', 'Osobady', 'tankmode', 'Rivvin', 'gumol', 'ouvreboite', 'GaryX', 'AffectionateData1252', 'devopsdudeinthebay', 'SlowMatt', 'ToHallowMySleep', 'lIIllIIlllIIllIIl', 'personalityson', 'jumpmanzero', 'spartanstu2011', 'Firm_Ad_330', 'publicclassobject', 'lambdacalcinate', 'skesisfunk', 'InvestigatorSenior', 'SpeechlessMelancholy', 'Pharisaeus', 'tenprose', 'campbellm', 'rollie82', 'cciciaciao', 'Mircoxi', 'alana31415', 'mutantj1978', 'Velsen1', 'oneeyedziggy', 'QKD_king', 'Atari__Safari', 'thephotoman', 'hanszimmermanx', 'Bwob', 's-mores', 'OMG_I_LOVE_CHIPOTLE', 'Deathnote_Blockchain', 'Ok_Cancel_7891', 'BullshitBatmobile', 'razordreamz', 'nnomae', 'NowImAllSet', 'tistalone', 'brzeczyszczewski79', 'Laicbeias', 'Lostwhispers05', 'Ryuugyo', 'dobryak', 'Mixabuben', 'ivancea', 'mriheO', 'STN_LP91746', 'YoRHa_Michal', 'tangoshukudai', 'mikeblas', 'a__square__peg', 'pmMe-PicsOfSpiderMan', 'sird0rius', 'Axonos', 'Geralt_of_riviea', 'Grengis_Kahn', 'Wingfril', 'Glowwerms', 'SanityInAnarchy', 'MichaelSK', 'Tarl2323', 'LordAmras', 'DigThatData', 'LaidbackMorty', 'nesh34', 'G_Morgan', 'bitchkat', 'IdiotCharizard', 'wifey_not_found', 'OneU', 'eek04', 'ratherbealurker', 'otherwiseguy', 'Juvenall', 'nath3lf', 'kend7510', 'loseitthrowaway7797', 'SoulSkrix', 'arwinda', 'tech_tuna', 'Baxkit', 'AdAdministrative2955', 'tidbitsmisfit', 'eattherichnow', 'Zagerer', 'ExternalBison54', 'hotdogswithbeer', 'monthlymeeples', 'jack-of-some', 'hurenkind5', 'PlaidWorld', 'kbder', 'DetectiveOwn6606', 'Riding_my_bike', 'ExeusV', 'elmassivo', 'nrd170', 'devdetails', 'LookIPickedAUsername', 'voidvector', 'RainbowWarfare', 'YesNoMaybe', 'Dean_Roddey', 'darkapplepolisher', 'deaddyfreddy', 'Division2226', 'MilkChugg', 'Dreamtrain', 'Shubhamkumar_Active', 'Graybie', 'kronik85', 'Serious-Regular', 'raam86', 'maxinstuff', 'Turtvaiz', 'candyforlunch', 'AntiProtonBoy', 'a_latvian_potato', 'TokenGrowNutes', 'mbcb', 'SomePersonalData', '_tabish', 'f0rtytw0', 'manystripes', 'alexkey', 'mycall', 'troy_mambo', 'jimmux', 'SereeqQ', 'AbleEgg7155', 'jhaluska', 'OkMuscle7609', '028XF3193', 'nsjr', 'clibraries_', 'Walt925837', 'constant_void', 'popthestacks', 'happyscrappy', 'fdar', 'ParanoidDrone', 'HatesBeingThatGuy', 'pydry', 'HRApprovedUsername', 'BlachEye', 'crimson_chin', 'MardiFoufs', 'datdupe', 'boobsbr', 'BenAdaephonDelat', 'DarkFusionPresent', 'erwan', 'unknowinm', 'red75prime', 'NoPriorThreat', 'forgottenHedgehog', 'theQuandary', 'gilwooden', 'Unexpectedpicard', 'way2lazy2care', 'Drisku11', 'BluRazz494', 'halfwit_genius', 'smirk79', 'brainchrist', 'PossibleHipster', 'abomanoxy', 'rampant-airframe', 'pacofvf', 'hayasecond', 'gimmeslack12', '_DontYouLaugh', 'FatStoic', 'hugthemachines', 'itsjustawindmill', 'slykethephoxenix', 'ZirePhiinix', 'plpn', 'ThaToastman', 'One_Curious_Cats', 'Internet-of-cruft', 'Mountain_Goat_69', 'scodagama1', 'Systema-Periodicum', 'jaskij', 'transeunte', 'mkane848', 'NotUniqueOrSpecial', 'ItsCheddy', 'squishles', 'headinthesky', 'MisterCoke', 'PrintFabricator', 'Zapper42', 'justheretolurk332', '09937726654122', 'Glugstar', 'wankthisway', 'Emerald-Hedgehog', 'GiveEmWatts', 'AceOfShades_', 'LuckyDuckes', 'jweinbender', 'NormalSteakDinner', 'goranlepuz', 'singleshoe', 'uncreativemynameis', 'NotSoButFarOtherwise', 'socialister', 'RubyU', 'MoreRopePlease', 'Netzapper', 'dbenhur', 'skinnybuddha', 'Exepony', 'twoBreaksAreBetter', 'MadRedX', 'fordat1', 'Xalara', 'fucklockjaw', 'tiajuanat', 'DunbarDiPianosa', 'nodecentalternative', 'supreme_blorgon', 'Kwinten', 'aniforprez', 'MTGandP', 'TN_Runner', 'brandnewlurker23', 'deonslam', 'TheWorstPossibleName', 'E3K', 'Rbm455', 'argh523', 'RScrewed', 'SonOfMetrum', 'DanFromShipping', 'pedal-force', 'CallMeAnanda', 'DocMcCoy', 'greyl', 'Zedrackis', 'pogogram', 'renatoathaydes', 'Hrothen', 'cach-e', 'tominator93', 'audentis', 'StickiStickman', '_GoldenRule', 'fireduck', 'levelanalytics', 'brucecaboose', 'GorgeousJDK', 'Kered13', 'RockleyBob', 'KarnuRarnu', 'Headpuncher', 'Envect', 'xuomo', 'Delaaia', 'RandmTyposTogethr', 'Fit_Owl_5650', 'l03wn3', 'sandaz13', 'wlievens', 'getriglad', 'elmuerte', 'karinto', 'python4geeks', 'skhaz', 'odd_sherlock', 'fagnerbrack', 'scastiel', 'supercargo', 'Same_Awareness_818', 'hennell', 'press0', 'James_Jack_Hoffmann', 'Normality23', 'Tenderhombre', 'SvixKen', 'ColinEberhardt', 'CrazyJoe221', 'onlyonlz', 'bartwe', 'juankman', 'freakhill', 'FeelingGate8', 'andrei_alexandrescu', '_Sharp_', 'Remarkable_Luck9571', 'proran', 'CanvasFanatic', 'FeezusChrist', 'kz393', 'OldSkooler1212', 'nmarkham96', 'freeaddition', '2dumb4python', 'Sopel97', 'cdsmith', 'slypieok', 'HeapnStax', 'amandzor', 'SilverHolo', 'Feeling-Currency-360', 'raduannassar', 'CodedCoder', 'Zellyk', 'Pavel_Ludwig', 'Andre_LaMothe', 'ripeGardenTomato', 'richmilesxyz', 'MirrorLake', 'AlwaysF3sh', 'nomelettes', 'GreatCinyc', 'spacezombiejesus', 'bravopapa99', 'Drakkur', 'nekodim42', 'nameofundefined', 'HopefulEuclid', 'amakai', 'UnusualNovel1452', 'Piisthree', 'GOD_Official_Reddit', 'avoere', 'EulereeEuleroo', 'SubterraneanAlien', 'thisisjimmy', 'oursland', 'bwainfweeze', 'tcpukl', 'IOFrame', 'Mikefrommke', 'LagT_T', 'staminaplusone', 'touristtam', 'xXWarMachineRoXx', 'randompittuser', 'ShacoinaBox', '__device__', 'Markavian', '08148693', 'Snoo_57113', 'apdea', 'DontMakeMeDoIt', 'pbvas', 'MrPentiumD', 'Jona-Anders', 'ChaosCon', 'luciusquinc', 'Definition-Ornery', 'ChoiceDefiant6504', 'andrew_kirfman', 'meow_d_', 'al_balone', 'halflucids', 'i_am_at_work123', 'lordtnt', 'Electronic-Wonder-77', 'vgf89', 'Maxatar', 'koreth', 'Ibaneztwink', 'Yangoose', 'yojimbo_beta', 'nimbledaemon', 'Aen-Seidhe', 'justapcgamer', 'sammymammy2', 'NotGoodSoftwareMaker', 'FILTER_OUT_T_D', '_wombo4combo', 'readynext1', 'Schmittfried', 'Anus_Brown', 'Caffeine_Monster', 'Nicolay77', 'greebo42', 'DarthKnight024', 'Kuinox', 'hypnosquid', 'driftingfornow', 'LuckyHedgehog', 'Ouaouaron', 'massive_succ', 'misspacific', 'codewario', 'RandyHoward', 'hoyohoyo9', 'kairos', 'nerd4code', 'worthwhilewrongdoing', 'stormdelta', 'bluesdude', 'fatpads', 'Shadowratenator', 'inertiadriftsc', 'Ishax', 'DynamiteBastardDev', 'RememberToLogOff', 'Destination_Centauri', 'wasdninja', 'TaohRihze', 'windsorHaze', '__throw_error', 'CodeMonkeeh', 'Own-Estate-5717', 'izalutski', 'Kenya-West', 'GrayLiterature', 'TopHatX', 'feross', 'hackhive-io']\n"
     ]
    }
   ],
   "source": [
    "# loop through the hot submissions\n",
    "for submission in subreddit.hot(limit=20):\n",
    "\n",
    "    # check if author name is in the reply graph - if so, we update the number of submissions\n",
    "    # associated with this user\n",
    "    # if not, we construct a new node with 1 associated submission\n",
    "    if submission.author.name in replyGraph:\n",
    "        replyGraph.nodes[submission.author.name]['subNum'] += 1\n",
    "    else:\n",
    "        replyGraph.add_node(submission.author.name, subNum=1)\n",
    "\n",
    "    submissionId = submission.name;\n",
    "    # this stores the submissionId (in submission.name) and associate it to the author\n",
    "    # (submission.author.name).\n",
    "    dSubCommentId[submissionId] = {submissionId : submission.author.name}\n",
    "\n",
    "    # for the current submission, retrieve the associated comments\n",
    "    submission.comments.replace_more(limit=None)\n",
    "    for comment in submission.comments.list():\n",
    "\n",
    "        # some data checking to cater for deleted comments\n",
    "        # we only add a link if the comment hasn't been deleted\n",
    "        if comment.author is not None and comment.author.name != 'ExternalUserError':\n",
    "            dSubCommentId[submissionId].update({comment.name : comment.author.name})\n",
    "\n",
    "            # check if we have seen the comment's parent yet.  If not, then parent comment has been\n",
    "            # deleted\n",
    "            if comment.parent_id in dSubCommentId[submissionId]:\n",
    "                # if edge exists, increment the replyNum, otherwise add a new edge\n",
    "                if replyGraph.has_edge(comment.author.name, dSubCommentId[submissionId][comment.parent_id]):\n",
    "                    replyGraph[comment.author.name][dSubCommentId[submissionId][comment.parent_id]]['replyNum'] += 1\n",
    "                else:\n",
    "                    # need to check if the nodes have been added yet, if not add it and set subNum to 0\n",
    "                    if not comment.author.name in replyGraph:\n",
    "                        replyGraph.add_node(comment.author.name, subNum=0)\n",
    "\n",
    "                    if not dSubCommentId[submissionId][comment.parent_id] in replyGraph:\n",
    "                        replyGraph.add_node(dSubCommentId[submissionId][comment.parent_id], subNum=0)\n",
    "\n",
    "                    replyGraph.add_edge(comment.author.name, dSubCommentId[submissionId][comment.parent_id], replyNum=1)\n",
    "\n",
    "                    \n",
    "print(replyGraph.nodes)\n",
    "#\n",
    "# TODO: save graph to file\n",
    "#\n",
    "nx.readwrite.write_graphml(replyGraph, sFileName)\n"
   ]
  },
  {
   "cell_type": "code",
   "execution_count": 8,
   "id": "8a547b48",
   "metadata": {},
   "outputs": [],
   "source": [
    "# read it back in to demonstrate it works\n",
    "replyGraph = nx.readwrite.read_graphml(sFileName)\n",
    "\n",
    "\n",
    "# computing the degree centrality and plotting it\n",
    "lDegCentrality = nx.degree_centrality(replyGraph)\n",
    "\n",
    "\n",
    "#\n",
    "# TODO: write code to compute eigenvetor and katz centrality\n",
    "# lEigenVectorCentrality = ...\n",
    "#\n",
    "lEigenVectorCentrality = nx.eigenvector_centrality(replyGraph)\n",
    "lKatzCentrality = nx.katz_centrality(replyGraph)\n"
   ]
  },
  {
   "cell_type": "markdown",
   "id": "fd64af53",
   "metadata": {},
   "source": [
    "The following code displayes the histograms of the degree, eigenvector and katz centrality values of the graph."
   ]
  },
  {
   "cell_type": "code",
   "execution_count": 9,
   "id": "30328993",
   "metadata": {
    "scrolled": true
   },
   "outputs": [
    {
     "data": {
      "image/png": "[encoded data removed]",
      "text/plain": [
       "<Figure size 640x480 with 3 Axes>"
      ]
     },
     "metadata": {},
     "output_type": "display_data"
    }
   ],
   "source": [
    "# plot histograms\n",
    "plt.subplot(1,3,1)\n",
    "plt.hist(list(lDegCentrality.values()))\n",
    "plt.title('Degree')\n",
    "plt.xlabel('centrality')\n",
    "#\n",
    "# TODO: plot the other two histograms\n",
    "#\n",
    "# eigenvector centrality\n",
    "plt.subplot(1, 3, 2)\n",
    "plt.hist(list(lEigenVectorCentrality.values()))\n",
    "plt.title('Eigenvector')\n",
    "plt.xlabel('centrality')\n",
    "# katz centrality\n",
    "plt.subplot(1, 3, 3)\n",
    "plt.hist(list(lKatzCentrality.values()))\n",
    "plt.title('Katz')\n",
    "plt.xlabel('centrality')\n",
    "\n",
    "plt.show()"
   ]
  },
  {
   "cell_type": "markdown",
   "id": "830464dc",
   "metadata": {},
   "source": [
    "The following code computes the SNA statistics/measures to do with centrality, clustering coefficient, connected components and bridges."
   ]
  },
  {
   "cell_type": "code",
   "execution_count": 11,
   "id": "130a502f",
   "metadata": {
    "scrolled": true
   },
   "outputs": [
    {
     "name": "stdout",
     "output_type": "stream",
     "text": [
      "Gloabl clustering coefficient/transitivit = 0.06005338078291815\n",
      "number of strongly connected components = 373\n",
      "number of weakly connected components = 15\n",
      "[('ketralnis', 'jevring'), ('ketralnis', 'Worth_Trust_3825'), ('ketralnis', 'hyperbrainer'), ('ketralnis', 'Richandler'), ('ketralnis', 'Tarquin_McBeard'), ('ketralnis', 'Fiennes'), ('ketralnis', 'Yeitgeist'), ('ketralnis', 'Messy-Recipe'), ('ketralnis', 'altik_0'), ('ketralnis', 'jixsonz'), ('ketralnis', 'Cautious-Nothing-471'), ('ketralnis', 'rhaksw'), ('ketralnis', 'qmunke'), ('ketralnis', 'Parachuteee'), ('ketralnis', 'hector_villalobos'), ('ketralnis', 'scorecerer'), ('ketralnis', 'EpicDaNoob'), ('ketralnis', 'franzwong'), ('ketralnis', 'SirLich'), ('ketralnis', 'Nowaker'), ('ketralnis', 'BoppreH'), ('ketralnis', 'english_fool'), ('ketralnis', 'happy_hawking'), ('ketralnis', 'WeeSingInSillyville'), ('ketralnis', 'POWER_SNUGGLE'), ('ketralnis', 'myringotomy'), ('ketralnis', 'ConcurrentSquared'), ('ketralnis', 'MSpekkio'), ('ketralnis', 'Smooth-Zucchini4923'), ('ketralnis', 'yozhiki-pyzhiki'), ('ketralnis', 'ThatCrankyGuy'), ('ketralnis', 'Jean_Kul'), ('ketralnis', 'phillipcarter2'), ('ketralnis', 'animastralis'), ('ketralnis', 'not_a_novel_account'), ('ketralnis', 'maestro2005'), ('ketralnis', 'watabby'), ('ketralnis', 'tophatstuff'), ('ketralnis', 'f10101'), ('ketralnis', 'pat_trick'), ('ketralnis', 'Owatch'), ('ketralnis', 'KawaiiNeko-'), ('ketralnis', 'RockstarArtisan'), ('ketralnis', 'revereddesecration'), ('ketralnis', 'Yamoyek'), ('ketralnis', 'df1dcdb83cd14e6a9f7f'), ('ketralnis', 'TheNamelessKing'), ('ketralnis', 'silveryRain'), ('ketralnis', 'secret_online'), ('ketralnis', 'untetheredocelot'), ('ketralnis', 'purefabulousity'), ('ketralnis', 'water_bottle_goggles'), ('ketralnis', 'auto_grammatizator'), ('ketralnis', 'WeNeedYouBuddyGetUp'), ('ketralnis', 'skulgnome'), ('ketralnis', 'throwaway_bluehair'), ('ketralnis', 'Sarke1'), ('ketralnis', 'FullPoet'), ('ketralnis', 'fire_in_the_theater'), ('ketralnis', 'DrkMaxim'), ('ketralnis', 'turtley99'), ('ketralnis', 'hashedboards'), ('ketralnis', 'reercalium2'), ('ketralnis', 'FishGiant'), ('ketralnis', 'Notakas'), ('ketralnis', 'Responsible-Chef6073'), ('ketralnis', 'Ok_Transition9957'), ('ketralnis', 'pindab0ter'), ('ketralnis', 'Full-Spectral'), ('ketralnis', 'gliderXC'), ('ketralnis', 'drankinatty'), ('ketralnis', 'Fousheezy'), ('ketralnis', 'osantacruz'), ('ketralnis', 'Somepotato'), ('ketralnis', 'mywaterlooaccount'), ('ketralnis', 'Doobage'), ('ketralnis', 'rocode'), ('ketralnis', 'ASteelyDan'), ('ketralnis', '07734willy'), ('ketralnis', 'andrewfenn'), ('ketralnis', 'Specialist-Fix-6386'), ('ketralnis', 'Rtzon'), ('ketralnis', 'anengineerandacat'), ('ketralnis', 'outrageous-spirit-80'), ('ketralnis', 'KieranDevvs'), ('ketralnis', 'realPrimoh'), ('ketralnis', 'zachm'), ('ketralnis', 'stronghup'), ('ketralnis', 'johnlsingleton'), ('ketralnis', 'Lisoph'), ('ketralnis', 'SirClueless'), ('ketralnis', 'Ytrog'), ('ketralnis', 'Proud_Ad5394'), ('ketralnis', 'inhumantsar'), ('ketralnis', 'GunpowderGuy'), ('ketralnis', 'pihkal'), ('fxfighter', 'Eurynom0s'), ('qmunke', 'Simber1'), ('qmunke', 'TikiScudd'), ('qmunke', 'Amuro_Ray'), ('Worth_Trust_3825', 'KevinCarbonara'), ('Worth_Trust_3825', 'elmuerte'), ('Worth_Trust_3825', 'douglasg14b'), ('BoppreH', 'btmc'), ('subfootlover', 'Ksevio'), ('subfootlover', 'qq123q'), ('subfootlover', 'mbcb'), ('subfootlover', 'SomePersonalData'), ('-grok', 'koreth'), ('-grok', 'AndrewNeo'), ('Sarke1', 'MindStalker'), ('ThreeLeggedChimp', 'misspacific'), ('ThreeLeggedChimp', 'Destination_Centauri'), ('Rtzon', 'notori3647'), ('dacjames', 'serviscope_minor'), ('Eurynom0s', 'Dongslinger420'), ('WTFwhatthehell', 'Aen-Seidhe'), ('WTFwhatthehell', 'inertiadriftsc'), ('KevinCarbonara', 'wRAR_'), ('AndrewNeo', 'nelmaloc'), ('wRAR_', 'Booty_Bumping'), ('caboosetp', 'emn13'), ('Iggyhopper', 'Kuinox'), ('Iggyhopper', 'DarthKnight024'), ('April1987', 'butt_fun'), ('bobbymk10', 'k-selectride'), ('QuantumMarina', 'lambdacalcinate'), ('QuantumMarina', 'Osobady'), ('QuantumMarina', 'SlowMatt'), ('QuantumMarina', 'skesisfunk'), ('QuantumMarina', 'InvestigatorSenior'), ('QuantumMarina', 'SpeechlessMelancholy'), ('QuantumMarina', 'tenprose'), ('QuantumMarina', 'campbellm'), ('QuantumMarina', 'alana31415'), ('QuantumMarina', 'mutantj1978'), ('QuantumMarina', 'Velsen1'), ('QuantumMarina', 'QKD_king'), ('QuantumMarina', 'hanszimmermanx'), ('QuantumMarina', 'OMG_I_LOVE_CHIPOTLE'), ('QuantumMarina', 'Deathnote_Blockchain'), ('QuantumMarina', 'Ok_Cancel_7891'), ('QuantumMarina', 'BullshitBatmobile'), ('QuantumMarina', 'razordreamz'), ('QuantumMarina', 'tistalone'), ('QuantumMarina', 'dobryak'), ('QuantumMarina', 'Mixabuben'), ('QuantumMarina', 'mriheO'), ('QuantumMarina', 'STN_LP91746'), ('QuantumMarina', 'YoRHa_Michal'), ('QuantumMarina', 'tangoshukudai'), ('QuantumMarina', 'mikeblas'), ('QuantumMarina', 'a__square__peg'), ('QuantumMarina', 'hayasecond'), ('QuantumMarina', 'gimmeslack12'), ('QuantumMarina', '_DontYouLaugh'), ('Osobady', 'pmMe-PicsOfSpiderMan'), ('Osobady', 'sird0rius'), ('Osobady', 'Axonos'), ('Osobady', 'Geralt_of_riviea'), ('tankmode', 'eek04'), ('tankmode', 'Wingfril'), ('tankmode', 'Glowwerms'), ('tankmode', 'LordAmras'), ('tankmode', 'DigThatData'), ('tankmode', 'LaidbackMorty'), ('tankmode', 'nesh34'), ('tankmode', 'G_Morgan'), ('tankmode', 'wifey_not_found'), ('tankmode', 'OneU'), ('tankmode', 'ratherbealurker'), ('tankmode', 'otherwiseguy'), ('Rivvin', 'kend7510'), ('Rivvin', 'AdAdministrative2955'), ('Rivvin', 'loseitthrowaway7797'), ('Rivvin', 'SoulSkrix'), ('Rivvin', 'arwinda'), ('ouvreboite', '028XF3193'), ('ouvreboite', 'nsjr'), ('ouvreboite', 'popthestacks'), ('ouvreboite', 'fdar'), ('ouvreboite', 'headinthesky'), ('GaryX', 'Zagerer'), ('devopsdudeinthebay', 'hurenkind5'), ('devopsdudeinthebay', 'DetectiveOwn6606'), ('lIIllIIlllIIllIIl', 'Emerald-Hedgehog'), ('publicclassobject', 'MilkChugg'), ('lambdacalcinate', 'Shubhamkumar_Active'), ('thephotoman', 'HatesBeingThatGuy'), ('thephotoman', 'ParanoidDrone'), ('Laicbeias', '08148693'), ('Laicbeias', 'Snoo_57113'), ('Ryuugyo', 'GiveEmWatts'), ('Geralt_of_riviea', '_tabish'), ('Grengis_Kahn', 'manystripes'), ('Grengis_Kahn', 'mycall'), ('Grengis_Kahn', 'troy_mambo'), ('Grengis_Kahn', 'SereeqQ'), ('Grengis_Kahn', 'AbleEgg7155'), ('SanityInAnarchy', 'fordat1'), ('MichaelSK', 'HRApprovedUsername'), ('MichaelSK', 'Xalara'), ('MichaelSK', 'brucecaboose'), ('Juvenall', 'BlachEye'), ('eattherichnow', 'boobsbr'), ('ExternalBison54', 'unknowinm'), ('hotdogswithbeer', 'abomanoxy'), ('monthlymeeples', 'fagnerbrack'), ('jack-of-some', 'tiajuanat'), ('LookIPickedAUsername', 'gilwooden'), ('LookIPickedAUsername', 'way2lazy2care'), ('YesNoMaybe', 'brainchrist'), ('Graybie', 'PossibleHipster'), ('Turtvaiz', 'lordtnt'), ('jhaluska', 'slykethephoxenix'), ('jhaluska', 'ZirePhiinix'), ('jhaluska', 'ThaToastman'), ('OkMuscle7609', 'Mountain_Goat_69'), ('OkMuscle7609', 'scodagama1'), ('clibraries_', 'mkane848'), ('Walt925837', 'NotUniqueOrSpecial'), ('BlachEye', 'squishles'), ('unknowinm', 'Zapper42'), ('BluRazz494', '09937726654122'), ('pacofvf', 'AceOfShades_'), ('pacofvf', 'LuckyDuckes'), ('FatStoic', 'jweinbender'), ('FatStoic', 'NormalSteakDinner'), ('FatStoic', 'pogogram'), ('FatStoic', 'greyl'), ('itsjustawindmill', 'singleshoe'), ('slykethephoxenix', 'NotSoButFarOtherwise'), ('plpn', 'Netzapper'), ('plpn', 'RubyU'), ('plpn', 'dbenhur'), ('NotUniqueOrSpecial', 'Exepony'), ('NotUniqueOrSpecial', 'twoBreaksAreBetter'), ('NotUniqueOrSpecial', 'MadRedX'), ('MisterCoke', 'GorgeousJDK'), ('justheretolurk332', 'nodecentalternative'), ('goranlepuz', 'TN_Runner'), ('socialister', 'brandnewlurker23'), ('socialister', 'E3K'), ('socialister', 'SonOfMetrum'), ('fordat1', 'CallMeAnanda'), ('MTGandP', 'Zedrackis'), ('brandnewlurker23', 'renatoathaydes'), ('DanFromShipping', '_GoldenRule'), ('DanFromShipping', 'fireduck'), ('DanFromShipping', 'levelanalytics'), ('DocMcCoy', 'KarnuRarnu'), ('DocMcCoy', 'RockleyBob'), ('DocMcCoy', 'TopHatX'), ('cach-e', 'RandmTyposTogethr'), ('audentis', 'xuomo'), ('StickiStickman', 'Ibaneztwink'), ('StickiStickman', 'Yangoose'), ('StickiStickman', 'yojimbo_beta'), ('Headpuncher', 'sandaz13'), ('Delaaia', 'Fit_Owl_5650'), ('Delaaia', 'l03wn3'), ('getriglad', 'elmuerte'), ('elmuerte', 'karinto'), ('fagnerbrack', 'scastiel'), ('fagnerbrack', 'freakhill'), ('fagnerbrack', 'FeelingGate8'), ('fagnerbrack', 'GrayLiterature'), ('scastiel', 'press0'), ('Same_Awareness_818', 'James_Jack_Hoffmann'), ('Same_Awareness_818', 'Normality23'), ('hennell', 'Tenderhombre'), ('CrazyJoe221', 'onlyonlz'), ('CrazyJoe221', 'bartwe'), ('proran', 'kz393'), ('proran', 'OldSkooler1212'), ('proran', 'Sopel97'), ('proran', 'HeapnStax'), ('proran', 'amandzor'), ('proran', 'SilverHolo'), ('proran', 'Feeling-Currency-360'), ('proran', 'raduannassar'), ('proran', 'CodedCoder'), ('proran', 'Andre_LaMothe'), ('proran', 'ripeGardenTomato'), ('proran', 'MirrorLake'), ('proran', 'nomelettes'), ('proran', 'GreatCinyc'), ('proran', 'spacezombiejesus'), ('proran', 'bravopapa99'), ('CanvasFanatic', 'nekodim42'), ('CanvasFanatic', '_wombo4combo'), ('CanvasFanatic', 'readynext1'), ('CanvasFanatic', 'Caffeine_Monster'), ('CanvasFanatic', 'Nicolay77'), ('CanvasFanatic', 'greebo42'), ('FeezusChrist', 'SubterraneanAlien'), ('nmarkham96', 'thisisjimmy'), ('freeaddition', 'oursland'), ('freeaddition', 'bwainfweeze'), ('freeaddition', 'Mikefrommke'), ('freeaddition', 'LagT_T'), ('2dumb4python', 'staminaplusone'), ('2dumb4python', 'touristtam'), ('2dumb4python', 'xXWarMachineRoXx'), ('slypieok', 'ShacoinaBox'), ('slypieok', 'Markavian'), ('Zellyk', 'apdea'), ('Andre_LaMothe', 'pbvas'), ('spacezombiejesus', 'MrPentiumD'), ('Drakkur', 'Jona-Anders'), ('Drakkur', 'ChaosCon'), ('Drakkur', 'luciusquinc'), ('Drakkur', 'Definition-Ornery'), ('Drakkur', 'worthwhilewrongdoing'), ('nameofundefined', 'meow_d_'), ('amakai', 'halflucids'), ('amakai', 'fatpads'), ('amakai', 'al_balone'), ('amakai', 'i_am_at_work123'), ('amakai', 'Shadowratenator'), ('tcpukl', 'Ishax'), ('tcpukl', 'windsorHaze'), ('tcpukl', 'hypnosquid'), ('staminaplusone', 'nimbledaemon'), ('08148693', 'sammymammy2'), ('Electronic-Wonder-77', 'driftingfornow'), ('Electronic-Wonder-77', 'RememberToLogOff'), ('Maxatar', 'Ouaouaron'), ('FILTER_OUT_T_D', 'RandyHoward'), ('_wombo4combo', 'hoyohoyo9'), ('_wombo4combo', '__throw_error'), ('DarthKnight024', 'stormdelta'), ('hypnosquid', 'bluesdude'), ('DynamiteBastardDev', 'TaohRihze'), ('izalutski', 'Kenya-West'), ('feross', 'hackhive-io')]\n"
     ]
    }
   ],
   "source": [
    "#\n",
    "# TODO: update the node attributes with centrality\n",
    "#\n",
    "# eigenvector centrality, stored in node attribute 'eigen'\n",
    "for nodeId, cent in lEigenVectorCentrality.items():\n",
    "    replyGraph.nodes[nodeId]['eigen'] = float(cent)\n",
    "\n",
    "# katz centrality, stored in node attribute 'katz'\n",
    "for nodeId, cent in lKatzCentrality.items():\n",
    "    replyGraph.nodes[nodeId]['katz'] = float(cent)\n",
    "\n",
    "\n",
    "#\n",
    "# TODO: write out graph to new file\n",
    "#\n",
    "nx.readwrite.write_graphml(replyGraph, 'mod' + sFileName, infer_numeric_types=True)\n",
    "\n",
    "\n",
    "#\n",
    "# TODO: compute the other SNA measures specified in the lab\n",
    "#\n",
    "\n",
    "#\n",
    "# compute clustering\n",
    "# the networkx code is within format(...)\n",
    "#\n",
    "print('Gloabl clustering coefficient/transitivit = {}'.format(nx.transitivity(replyGraph)))\n",
    "\n",
    "\n",
    "#\n",
    "# compute components\n",
    "#\n",
    "print('number of strongly connected components = {}'.format(nx.number_strongly_connected_components(replyGraph)))\n",
    "print('number of weakly connected components = {}'.format(nx.number_weakly_connected_components(replyGraph)))\n",
    "\n",
    "\n",
    "\n",
    "#\n",
    "# compute bridges\n",
    "#\n",
    "print(list(nx.bridges(replyGraph.to_undirected())))\n"
   ]
  },
  {
   "cell_type": "code",
   "execution_count": 12,
   "id": "2cde3075",
   "metadata": {},
   "outputs": [],
   "source": [
    "import networkx as nx\n",
    "# python-louvain\n",
    "import community\n",
    "import random\n",
    "import csv\n",
    "\n",
    "import matplotlib.pyplot as plt"
   ]
  },
  {
   "cell_type": "code",
   "execution_count": null,
   "id": "b1410af7",
   "metadata": {},
   "outputs": [],
   "source": [
    "# filename of graph to read in\n",
    "sFilename = \"workshop9.graphml\"\n",
    "\n",
    "# filename of ground truth labels\n",
    "sGroundTruthFilename = \"workshop9GroundTruth.csv\""
   ]
  }
 ],
 "metadata": {
  "kernelspec": {
   "display_name": "Python 3 (ipykernel)",
   "language": "python",
   "name": "python3"
  },
  "language_info": {
   "codemirror_mode": {
    "name": "ipython",
    "version": 3
   },
   "file_extension": ".py",
   "mimetype": "text/x-python",
   "name": "python",
   "nbconvert_exporter": "python",
   "pygments_lexer": "ipython3",
   "version": "3.11.4"
  }
 },
 "nbformat": 4,
 "nbformat_minor": 5
}
