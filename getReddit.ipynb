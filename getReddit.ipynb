{
 "cells": [
  {
   "cell_type": "code",
   "execution_count": 1,
   "id": "a3be1a37",
   "metadata": {},
   "outputs": [],
   "source": [
    "%load_ext autoreload\n",
    "%autoreload 1\n",
    "%aimport redditClient"
   ]
  },
  {
   "cell_type": "code",
   "execution_count": 2,
   "id": "7792d606",
   "metadata": {},
   "outputs": [],
   "source": [
    "from redditClient import redditClient\n",
    "import matplotlib.pyplot as plt\n",
    "import praw\n",
    "from collections import Counter\n",
    "import time\n",
    "from datetime import datetime"
   ]
  },
  {
   "cell_type": "code",
   "execution_count": 3,
   "id": "d1833224",
   "metadata": {},
   "outputs": [],
   "source": [
    "sSubredditName = 'programming'\n",
    "client = redditClient()\n",
    "\n",
    "\n",
    "# print(client.user.me()) #test client"
   ]
  },
  {
   "cell_type": "code",
   "execution_count": 4,
   "id": "1b805ba0",
   "metadata": {},
   "outputs": [],
   "source": [
    "subreddit = client.subreddit(sSubredditName)\n",
    "data = []\n",
    "\n",
    "# get sub-reddits\n",
    "for submission in subreddit.top(limit=None):\n",
    "    if submission.author is not None:\n",
    "#         print(submission.title, submission.id, submission.score, submission.created)\n",
    "        \n",
    "        submission.comments.replace_more(limit=0)\n",
    "        if len(submission.comments.list()) > 0:\n",
    "            if submission.comments[0].author is not None:\n",
    "#                 print(len(submission.comments.list()), submission.comments[0].body)\n",
    "                data.append([submission.title, submission.id, datetime.fromtimestamp(submission.created), submission.selftext, submission.comments[0].body])"
   ]
  },
  {
   "cell_type": "code",
   "execution_count": 5,
   "id": "624fa604",
   "metadata": {},
   "outputs": [],
   "source": [
    "import pandas as pd\n",
    "# put the data into a pandas dataframe\n",
    "df = pd.DataFrame(data,columns=['Title','ID', 'Time', 'Body', 'TopComment'])"
   ]
  },
  {
   "cell_type": "code",
   "execution_count": 6,
   "id": "44d710fe",
   "metadata": {},
   "outputs": [
    {
     "data": {
      "text/html": [
       "<div>\n",
       "<style scoped>\n",
       "    .dataframe tbody tr th:only-of-type {\n",
       "        vertical-align: middle;\n",
       "    }\n",
       "\n",
       "    .dataframe tbody tr th {\n",
       "        vertical-align: top;\n",
       "    }\n",
       "\n",
       "    .dataframe thead th {\n",
       "        text-align: right;\n",
       "    }\n",
       "</style>\n",
       "<table border=\"1\" class=\"dataframe\">\n",
       "  <thead>\n",
       "    <tr style=\"text-align: right;\">\n",
       "      <th></th>\n",
       "      <th>Title</th>\n",
       "      <th>ID</th>\n",
       "      <th>Time</th>\n",
       "      <th>Body</th>\n",
       "      <th>TopComment</th>\n",
       "    </tr>\n",
       "  </thead>\n",
       "  <tbody>\n",
       "    <tr>\n",
       "      <th>0</th>\n",
       "      <td>There’s a reason that programmers always want ...</td>\n",
       "      <td>8f2lzu</td>\n",
       "      <td>2018-04-26 21:24:12</td>\n",
       "      <td></td>\n",
       "      <td>I think most programmers work in a similar way...</td>\n",
       "    </tr>\n",
       "    <tr>\n",
       "      <th>1</th>\n",
       "      <td>YouTube page load is 5x slower in Firefox and ...</td>\n",
       "      <td>91i0mc</td>\n",
       "      <td>2018-07-24 22:46:57</td>\n",
       "      <td></td>\n",
       "      <td>Is this an issue with Polymer in general, or j...</td>\n",
       "    </tr>\n",
       "    <tr>\n",
       "      <th>2</th>\n",
       "      <td>Google wins trial against Oracle as jury finds...</td>\n",
       "      <td>4l77w2</td>\n",
       "      <td>2016-05-27 04:06:35</td>\n",
       "      <td></td>\n",
       "      <td>Looks like we all still have careers.</td>\n",
       "    </tr>\n",
       "    <tr>\n",
       "      <th>3</th>\n",
       "      <td>TIL there's a community called \"dwitter\" where...</td>\n",
       "      <td>7m8770</td>\n",
       "      <td>2017-12-26 23:05:01</td>\n",
       "      <td></td>\n",
       "      <td>Now that the server seems to be under control,...</td>\n",
       "    </tr>\n",
       "    <tr>\n",
       "      <th>4</th>\n",
       "      <td>Cool website that explains algorithms as if th...</td>\n",
       "      <td>8530uf</td>\n",
       "      <td>2018-03-17 18:49:14</td>\n",
       "      <td></td>\n",
       "      <td>I think the public key crypto one is actually ...</td>\n",
       "    </tr>\n",
       "  </tbody>\n",
       "</table>\n",
       "</div>"
      ],
      "text/plain": [
       "                                               Title      ID  \\\n",
       "0  There’s a reason that programmers always want ...  8f2lzu   \n",
       "1  YouTube page load is 5x slower in Firefox and ...  91i0mc   \n",
       "2  Google wins trial against Oracle as jury finds...  4l77w2   \n",
       "3  TIL there's a community called \"dwitter\" where...  7m8770   \n",
       "4  Cool website that explains algorithms as if th...  8530uf   \n",
       "\n",
       "                 Time Body                                         TopComment  \n",
       "0 2018-04-26 21:24:12       I think most programmers work in a similar way...  \n",
       "1 2018-07-24 22:46:57       Is this an issue with Polymer in general, or j...  \n",
       "2 2016-05-27 04:06:35                   Looks like we all still have careers.  \n",
       "3 2017-12-26 23:05:01       Now that the server seems to be under control,...  \n",
       "4 2018-03-17 18:49:14       I think the public key crypto one is actually ...  "
      ]
     },
     "execution_count": 6,
     "metadata": {},
     "output_type": "execute_result"
    }
   ],
   "source": [
    "df.head()"
   ]
  },
  {
   "cell_type": "code",
   "execution_count": 7,
   "id": "66f9836e",
   "metadata": {},
   "outputs": [],
   "source": [
    "# convert into csv file\n",
    "df.to_csv('dataFromReddit_programming.csv', index=False) "
   ]
  }
 ],
 "metadata": {
  "kernelspec": {
   "display_name": "Python 3 (ipykernel)",
   "language": "python",
   "name": "python3"
  },
  "language_info": {
   "codemirror_mode": {
    "name": "ipython",
    "version": 3
   },
   "file_extension": ".py",
   "mimetype": "text/x-python",
   "name": "python",
   "nbconvert_exporter": "python",
   "pygments_lexer": "ipython3",
   "version": "3.11.4"
  }
 },
 "nbformat": 4,
 "nbformat_minor": 5
}
